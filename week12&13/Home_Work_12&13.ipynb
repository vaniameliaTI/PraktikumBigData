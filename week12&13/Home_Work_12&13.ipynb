{
  "nbformat": 4,
  "nbformat_minor": 0,
  "metadata": {
    "colab": {
      "provenance": []
    },
    "kernelspec": {
      "name": "python3",
      "display_name": "Python 3"
    },
    "language_info": {
      "name": "python"
    }
  },
  "cells": [
    {
      "cell_type": "markdown",
      "source": [
        "### Practice Tasks 12\n",
        "- **Load a dataset of your choice and identify missing values**"
      ],
      "metadata": {
        "id": "khYTU5h7f6c8"
      }
    },
    {
      "cell_type": "code",
      "execution_count": null,
      "metadata": {
        "colab": {
          "base_uri": "https://localhost:8080/"
        },
        "id": "AKIpk_X9f2JM",
        "outputId": "10ed6165-ac3b-4f3a-8c4a-9f047538d2a2"
      },
      "outputs": [
        {
          "output_type": "stream",
          "name": "stdout",
          "text": [
            "Dataset Awal: \n",
            "      Name   Age   Salary         City\n",
            "0    Vania  24.0  12000.0     New York\n",
            "1    Melia  28.0      NaN      Bangkok\n",
            "2      Nia   NaN   6000.0      Madinah\n",
            "3     None  22.0      NaN  Kualalumpur\n",
            "4     Nero  30.0   7000.0      Jakarta\n",
            "5   Wijaya  35.0   9800.0       Manila\n",
            "6  Nuaiman   NaN  10000.0    Kapadokia\n",
            "\n",
            "Jumlah Nilai Hilang: \n",
            "Name      1\n",
            "Age       2\n",
            "Salary    2\n",
            "City      0\n",
            "dtype: int64\n"
          ]
        }
      ],
      "source": [
        "import pandas as pd\n",
        "\n",
        "data = {\n",
        "    'Name' : ['Vania', 'Melia', 'Nia', None, 'Nero', 'Wijaya', 'Nuaiman'],\n",
        "    'Age' : [24, 28, None, 22, 30, 35, None ],\n",
        "    'Salary' : [12000, None, 6000, None, 7000, 9800, 10000],\n",
        "    'City' : ['New York', 'Bangkok', 'Madinah', 'Kualalumpur', 'Jakarta', 'Manila', 'Kapadokia']\n",
        "}\n",
        "\n",
        "df = pd.DataFrame(data)\n",
        "print(\"Dataset Awal: \")\n",
        "print (df)\n",
        "print(\"\\nJumlah Nilai Hilang: \")\n",
        "print(df.isnull().sum())"
      ]
    },
    {
      "cell_type": "markdown",
      "source": [
        "- **Implement data transformations to normalize numerical columns.**"
      ],
      "metadata": {
        "id": "NBkn82_Rf8X-"
      }
    },
    {
      "cell_type": "code",
      "source": [
        "from sklearn.preprocessing import MinMaxScaler  # Pastikan ini ada\n",
        "from sklearn.preprocessing import StandardScaler\n",
        "\n",
        "df['Age'] = df['Age'].fillna(df['Age'].mean())\n",
        "df['Salary'] = df['Salary'].fillna(df['Salary'].mean())\n",
        "\n",
        "scaler = MinMaxScaler()\n",
        "df[['Age', 'Salary']] = scaler.fit_transform(df[['Age', 'Salary']])\n",
        "\n",
        "print(\"\\nDataset Setelag Normalisasi Kolom Numerik:\")\n",
        "print(df)"
      ],
      "metadata": {
        "colab": {
          "base_uri": "https://localhost:8080/"
        },
        "id": "_XhffxfSgBKF",
        "outputId": "6b8fab8a-72da-4d29-d226-40988c937f0c"
      },
      "execution_count": null,
      "outputs": [
        {
          "output_type": "stream",
          "name": "stdout",
          "text": [
            "\n",
            "Dataset Setelag Normalisasi Kolom Numerik:\n",
            "      Name       Age    Salary         City\n",
            "0    Vania  0.153846  1.000000     New York\n",
            "1    Melia  0.461538  0.493333      Bangkok\n",
            "2      Nia  0.446154  0.000000      Madinah\n",
            "3     None  0.000000  0.493333  Kualalumpur\n",
            "4     Nero  0.615385  0.166667      Jakarta\n",
            "5   Wijaya  1.000000  0.633333       Manila\n",
            "6  Nuaiman  0.446154  0.666667    Kapadokia\n"
          ]
        }
      ]
    },
    {
      "cell_type": "markdown",
      "source": [
        "- **Standardize categorical columns and remove duplicates**"
      ],
      "metadata": {
        "id": "cU5rJ4b8gdIj"
      }
    },
    {
      "cell_type": "code",
      "source": [
        "df = pd.get_dummies(df,columns=['City'], drop_first=True)\n",
        "\n",
        "df.drop_duplicates(inplace=True)\n",
        "print(\"\\nDataset Setelah Transformasikan\")\n",
        "\n",
        "print(df)"
      ],
      "metadata": {
        "colab": {
          "base_uri": "https://localhost:8080/"
        },
        "id": "3PRwlG54gG_s",
        "outputId": "21fe45f3-3b58-4960-e023-79f09607daf3"
      },
      "execution_count": null,
      "outputs": [
        {
          "output_type": "stream",
          "name": "stdout",
          "text": [
            "\n",
            "Dataset Setelah Transformasikan\n",
            "      Name       Age    Salary  City_Jakarta  City_Kapadokia  \\\n",
            "0    Vania  0.153846  1.000000         False           False   \n",
            "1    Melia  0.461538  0.493333         False           False   \n",
            "2      Nia  0.446154  0.000000         False           False   \n",
            "3     None  0.000000  0.493333         False           False   \n",
            "4     Nero  0.615385  0.166667          True           False   \n",
            "5   Wijaya  1.000000  0.633333         False           False   \n",
            "6  Nuaiman  0.446154  0.666667         False            True   \n",
            "\n",
            "   City_Kualalumpur  City_Madinah  City_Manila  City_New York  \n",
            "0             False         False        False           True  \n",
            "1             False         False        False          False  \n",
            "2             False          True        False          False  \n",
            "3              True         False        False          False  \n",
            "4             False         False        False          False  \n",
            "5             False         False         True          False  \n",
            "6             False         False        False          False  \n"
          ]
        }
      ]
    },
    {
      "cell_type": "code",
      "source": [
        "df.drop_duplicates(inplace=True)\n",
        "\n",
        "print(\"\\nDataset Setelah Menghapus Duplikasi:\")\n",
        "print(df)"
      ],
      "metadata": {
        "colab": {
          "base_uri": "https://localhost:8080/"
        },
        "id": "KX7OCsw0gIm3",
        "outputId": "cdad95c9-dc10-44af-a81c-fbb7ef14c08d"
      },
      "execution_count": null,
      "outputs": [
        {
          "output_type": "stream",
          "name": "stdout",
          "text": [
            "\n",
            "Dataset Setelah Menghapus Duplikasi:\n",
            "      Name       Age    Salary  City_Jakarta  City_Kapadokia  \\\n",
            "0    Vania  0.153846  1.000000         False           False   \n",
            "1    Melia  0.461538  0.493333         False           False   \n",
            "2      Nia  0.446154  0.000000         False           False   \n",
            "3     None  0.000000  0.493333         False           False   \n",
            "4     Nero  0.615385  0.166667          True           False   \n",
            "5   Wijaya  1.000000  0.633333         False           False   \n",
            "6  Nuaiman  0.446154  0.666667         False            True   \n",
            "\n",
            "   City_Kualalumpur  City_Madinah  City_Manila  City_New York  \n",
            "0             False         False        False           True  \n",
            "1             False         False        False          False  \n",
            "2             False          True        False          False  \n",
            "3              True         False        False          False  \n",
            "4             False         False        False          False  \n",
            "5             False         False         True          False  \n",
            "6             False         False        False          False  \n"
          ]
        }
      ]
    },
    {
      "cell_type": "markdown",
      "source": [
        "### Practice Tasks 13\n",
        "- **Use Matplotlib to create a multi-bar chart to compare data across groups.**"
      ],
      "metadata": {
        "id": "CX6GsAwTgNQi"
      }
    },
    {
      "cell_type": "code",
      "source": [
        "import matplotlib.pyplot as plt\n",
        "import numpy as np\n",
        "\n",
        "category = ['Blok1', 'Blok2', 'Blok3', 'Blok4']\n",
        "blok1 = [10, 15, 20, 25]\n",
        "blok2 = [12, 18, 24, 30]\n",
        "blok3 = [8, 14, 19, 22]\n",
        "\n",
        "bar_width = 0.2\n",
        "\n",
        "x = np.arange(len(category))\n",
        "x1 = x - bar_width\n",
        "x2 = x\n",
        "x3 = x + bar_width\n",
        "\n",
        "plt.figure(figsize=(10, 6))  # Ukuran gambar\n",
        "plt.bar(x1, blok1, width=bar_width, label='Blok 1', color='skyblue')  # Batang kelompok 1\n",
        "plt.bar(x2, blok2, width=bar_width, label='Blok 2', color='orange')   # Batang kelompok 2\n",
        "plt.bar(x3, blok3, width=bar_width, label='Blok 3', color='lightgreen')  # Batang kelompok 3\n",
        "\n",
        "# Menambahkan label, judul, dan legenda\n",
        "plt.xlabel('Category')  # Label sumbu X\n",
        "plt.ylabel('Values')      # Label sumbu Y\n",
        "plt.title('Multi-bar Chart: Comparison of Blok')  # Judul grafik\n",
        "plt.xticks(x, category)  # Label pada sumbu X\n",
        "plt.legend()  # Menampilkan legenda\n",
        "\n",
        "# Menampilkan plot\n",
        "plt.tight_layout()  # Mengatur tata letak agar lebih rapi\n",
        "plt.show()"
      ],
      "metadata": {
        "colab": {
          "base_uri": "https://localhost:8080/",
          "height": 607
        },
        "id": "EZYKF2TrgOGh",
        "outputId": "3f4b4d99-1e5c-42ce-8795-45f74a4d9dd7"
      },
      "execution_count": null,
      "outputs": [
        {
          "output_type": "display_data",
          "data": {
            "text/plain": [
              "<Figure size 1000x600 with 1 Axes>"
            ],
            "image/png": "[encoded data removed]"
          },
          "metadata": {}
        }
      ]
    },
    {
      "cell_type": "markdown",
      "source": [
        "- **Generate scatter plots with Seaborn to explore relationships between variables in a dataset.**\n",
        "- **Customize plot layouts and color schemes.**"
      ],
      "metadata": {
        "id": "sGwGxYJjgrFg"
      }
    },
    {
      "cell_type": "code",
      "source": [
        "import seaborn as sns\n",
        "import matplotlib.pyplot as plt\n",
        "import pandas as pd\n",
        "\n",
        "# Membuat dataset contoh\n",
        "data = {\n",
        "    \"Age\": [22, 25, 30, 35, 40, 45, 50, 55, 60, 65],  # Usia\n",
        "    \"Income\": [2000, 2500, 3000, 3500, 4000, 4500, 5000, 5200, 5400, 5600],  # Pendapatan\n",
        "    \"Savings\": [500, 700, 1200, 1800, 2500, 3200, 4000, 4200, 4400, 4600]  # Tabungan\n",
        "}\n",
        "\n",
        "# Membuat DataFrame dari data\n",
        "df = pd.DataFrame(data)\n",
        "\n",
        "# Membuat scatter plot menggunakan Seaborn\n",
        "plt.figure(figsize=(8, 6))\n",
        "scatter_plot = sns.scatterplot(\n",
        "    data=df,\n",
        "    x=\"Age\",\n",
        "    y=\"Income\",\n",
        "    size=\"Savings\",  # Ukuran titik berdasarkan nilai tabungan\n",
        "    hue=\"Savings\",   # Warna titik berdasarkan nilai tabungan\n",
        "    palette=\"viridis\",\n",
        "    sizes=(50, 300)  # Ukuran minimum dan maksimum untuk titik\n",
        ")\n",
        "\n",
        "# Menambahkan judul dan label\n",
        "plt.title(\"Scatter Plot: Income vs Age with Savings as Size\", fontsize=14)\n",
        "plt.xlabel(\"Age\")\n",
        "plt.ylabel(\"Income\")\n",
        "plt.legend(title=\"Savings\", loc='upper left', bbox_to_anchor=(1, 1))  # Posisi legenda\n",
        "\n",
        "# Menampilkan scatter plot\n",
        "plt.tight_layout()  # Mengatur tata letak agar rapi\n",
        "plt.show()"
      ],
      "metadata": {
        "colab": {
          "base_uri": "https://localhost:8080/",
          "height": 607
        },
        "id": "ACJMPlN-gQZ_",
        "outputId": "8c5e9fc4-c5e4-49a2-d9b9-199b97a9c73b"
      },
      "execution_count": null,
      "outputs": [
        {
          "output_type": "display_data",
          "data": {
            "text/plain": [
              "<Figure size 800x600 with 1 Axes>"
            ],
            "image/png": "[encoded data removed]"
          },
          "metadata": {}
        }
      ]
    },
    {
      "cell_type": "markdown",
      "source": [
        "# **HOME WORK**\n",
        "- **Pertemuan 12**: Clean a real-world dataset (from Kaggle or another source), perform normalization, handle outliers, and prepare the data for analysis.\n"
      ],
      "metadata": {
        "id": "ZZdnindrg5UT"
      }
    },
    {
      "cell_type": "code",
      "source": [
        "import pandas as pd\n",
        "import numpy as np\n",
        "from sklearn.preprocessing import MinMaxScaler\n",
        "import matplotlib.pyplot as plt\n",
        "\n",
        "# 1. Membaca dataset\n",
        "file_path = 'starbucks.csv'\n",
        "df = pd.read_csv(file_path)\n",
        "\n",
        "# 2. Menampilkan informasi dataset\n",
        "print(\"Informasi Dataset:\")\n",
        "print(df.info())\n",
        "print(\"\\nStatistik Dataset:\")\n",
        "print(df.describe())\n",
        "\n",
        "# 3. Membersihkan Data\n",
        "# Menghapus baris duplikat\n",
        "df.drop_duplicates(inplace=True)\n",
        "\n",
        "# Menangani nilai yang hilang (hanya untuk kolom numerik)\n",
        "missing_cols = df.columns[df.isnull().any()]\n",
        "print(f\"\\nKolom dengan nilai hilang: {missing_cols}\")\n",
        "\n",
        "# Mengisi nilai hilang hanya untuk kolom numerik\n",
        "for col in missing_cols:\n",
        "    if df[col].dtype in ['float64', 'int64']:  # Memastikan hanya kolom numerik yang diisi\n",
        "        df[col].fillna(df[col].median(), inplace=True)  # Mengisi dengan median\n",
        "\n",
        "# 4. Normalisasi (Min-Max Scaling)\n",
        "scaler = MinMaxScaler()\n",
        "numerical_cols = df.select_dtypes(include=['float64', 'int64']).columns\n",
        "df[numerical_cols] = scaler.fit_transform(df[numerical_cols])\n",
        "\n",
        "# 5. Menangani Outlier\n",
        "# Menggunakan metode IQR untuk mendeteksi outlier\n",
        "for col in numerical_cols:\n",
        "    Q1 = df[col].quantile(0.25)\n",
        "    Q3 = df[col].quantile(0.75)\n",
        "    IQR = Q3 - Q1\n",
        "    lower_bound = Q1 - 1.5 * IQR\n",
        "    upper_bound = Q3 + 1.5 * IQR\n",
        "    df = df[(df[col] >= lower_bound) & (df[col] <= upper_bound)]\n",
        "\n",
        "# 6. Menyimpan dataset yang sudah dibersihkan\n",
        "cleaned_file_path = 'starbucks_cleaned.csv'\n",
        "df.to_csv(cleaned_file_path, index=False)\n",
        "\n",
        "# Menampilkan pesan sukses\n",
        "print(\"\\nProses pembersihan selesai. Dataset yang sudah dibersihkan disimpan di:\")\n",
        "print(cleaned_file_path)\n"
      ],
      "metadata": {
        "colab": {
          "base_uri": "https://localhost:8080/"
        },
        "id": "zPWCWGv2hUw1",
        "outputId": "88538de6-8342-4fbc-a278-fde4e5c1a07e"
      },
      "execution_count": null,
      "outputs": [
        {
          "output_type": "stream",
          "name": "stdout",
          "text": [
            "Informasi Dataset:\n",
            "<class 'pandas.core.frame.DataFrame'>\n",
            "RangeIndex: 242 entries, 0 to 241\n",
            "Data columns (total 18 columns):\n",
            " #   Column                     Non-Null Count  Dtype  \n",
            "---  ------                     --------------  -----  \n",
            " 0   Beverage_category          242 non-null    object \n",
            " 1   Beverage                   242 non-null    object \n",
            " 2   Beverage_prep              242 non-null    object \n",
            " 3   Calories                   242 non-null    int64  \n",
            " 4    Total Fat (g)             242 non-null    object \n",
            " 5   Trans Fat (g)              242 non-null    float64\n",
            " 6   Saturated Fat (g)          242 non-null    float64\n",
            " 7    Sodium (mg)               242 non-null    int64  \n",
            " 8    Total Carbohydrates (g)   242 non-null    int64  \n",
            " 9   Cholesterol (mg)           242 non-null    int64  \n",
            " 10   Dietary Fibre (g)         242 non-null    int64  \n",
            " 11   Sugars (g)                242 non-null    int64  \n",
            " 12   Protein (g)               242 non-null    float64\n",
            " 13  Vitamin A (% DV)           242 non-null    object \n",
            " 14  Vitamin C (% DV)           242 non-null    object \n",
            " 15   Calcium (% DV)            242 non-null    object \n",
            " 16  Iron (% DV)                242 non-null    object \n",
            " 17  Caffeine (mg)              241 non-null    object \n",
            "dtypes: float64(3), int64(6), object(9)\n",
            "memory usage: 34.2+ KB\n",
            "None\n",
            "\n",
            "Statistik Dataset:\n",
            "         Calories  Trans Fat (g)   Saturated Fat (g)   Sodium (mg)  \\\n",
            "count  242.000000      242.000000         242.000000    242.000000   \n",
            "mean   193.871901        1.307025           0.037603      6.363636   \n",
            "std    102.863303        1.640259           0.071377      8.630257   \n",
            "min      0.000000        0.000000           0.000000      0.000000   \n",
            "25%    120.000000        0.100000           0.000000      0.000000   \n",
            "50%    185.000000        0.500000           0.000000      5.000000   \n",
            "75%    260.000000        2.000000           0.100000     10.000000   \n",
            "max    510.000000        9.000000           0.300000     40.000000   \n",
            "\n",
            "        Total Carbohydrates (g)   Cholesterol (mg)   Dietary Fibre (g)  \\\n",
            "count                 242.000000        242.000000          242.000000   \n",
            "mean                  128.884298         35.991736            0.805785   \n",
            "std                    82.303223         20.795186            1.445944   \n",
            "min                     0.000000          0.000000            0.000000   \n",
            "25%                    70.000000         21.000000            0.000000   \n",
            "50%                   125.000000         34.000000            0.000000   \n",
            "75%                   170.000000         50.750000            1.000000   \n",
            "max                   340.000000         90.000000            8.000000   \n",
            "\n",
            "        Sugars (g)   Protein (g)   \n",
            "count   242.000000     242.000000  \n",
            "mean     32.962810       6.978512  \n",
            "std      19.730199       4.871659  \n",
            "min       0.000000       0.000000  \n",
            "25%      18.000000       3.000000  \n",
            "50%      32.000000       6.000000  \n",
            "75%      43.750000      10.000000  \n",
            "max      84.000000      20.000000  \n",
            "\n",
            "Kolom dengan nilai hilang: Index(['Caffeine (mg)'], dtype='object')\n",
            "\n",
            "Proses pembersihan selesai. Dataset yang sudah dibersihkan disimpan di:\n",
            "starbucks_cleaned.csv\n"
          ]
        }
      ]
    },
    {
      "cell_type": "code",
      "source": [
        "pip install dash plotly\n"
      ],
      "metadata": {
        "colab": {
          "base_uri": "https://localhost:8080/"
        },
        "id": "99IdXT70jyBr",
        "outputId": "11a26ea8-151b-4c62-bed1-fe10d842dcb2"
      },
      "execution_count": null,
      "outputs": [
        {
          "output_type": "stream",
          "name": "stdout",
          "text": [
            "Requirement already satisfied: dash in /usr/local/lib/python3.10/dist-packages (2.18.2)\n",
            "Requirement already satisfied: plotly in /usr/local/lib/python3.10/dist-packages (5.24.1)\n",
            "Requirement already satisfied: Flask<3.1,>=1.0.4 in /usr/local/lib/python3.10/dist-packages (from dash) (3.0.3)\n",
            "Requirement already satisfied: Werkzeug<3.1 in /usr/local/lib/python3.10/dist-packages (from dash) (3.0.6)\n",
            "Requirement already satisfied: dash-html-components==2.0.0 in /usr/local/lib/python3.10/dist-packages (from dash) (2.0.0)\n",
            "Requirement already satisfied: dash-core-components==2.0.0 in /usr/local/lib/python3.10/dist-packages (from dash) (2.0.0)\n",
            "Requirement already satisfied: dash-table==5.0.0 in /usr/local/lib/python3.10/dist-packages (from dash) (5.0.0)\n",
            "Requirement already satisfied: importlib-metadata in /usr/local/lib/python3.10/dist-packages (from dash) (8.5.0)\n",
            "Requirement already satisfied: typing-extensions>=4.1.1 in /usr/local/lib/python3.10/dist-packages (from dash) (4.12.2)\n",
            "Requirement already satisfied: requests in /usr/local/lib/python3.10/dist-packages (from dash) (2.32.3)\n",
            "Requirement already satisfied: retrying in /usr/local/lib/python3.10/dist-packages (from dash) (1.3.4)\n",
            "Requirement already satisfied: nest-asyncio in /usr/local/lib/python3.10/dist-packages (from dash) (1.6.0)\n",
            "Requirement already satisfied: setuptools in /usr/local/lib/python3.10/dist-packages (from dash) (75.1.0)\n",
            "Requirement already satisfied: tenacity>=6.2.0 in /usr/local/lib/python3.10/dist-packages (from plotly) (9.0.0)\n",
            "Requirement already satisfied: packaging in /usr/local/lib/python3.10/dist-packages (from plotly) (24.2)\n",
            "Requirement already satisfied: Jinja2>=3.1.2 in /usr/local/lib/python3.10/dist-packages (from Flask<3.1,>=1.0.4->dash) (3.1.4)\n",
            "Requirement already satisfied: itsdangerous>=2.1.2 in /usr/local/lib/python3.10/dist-packages (from Flask<3.1,>=1.0.4->dash) (2.2.0)\n",
            "Requirement already satisfied: click>=8.1.3 in /usr/local/lib/python3.10/dist-packages (from Flask<3.1,>=1.0.4->dash) (8.1.7)\n",
            "Requirement already satisfied: blinker>=1.6.2 in /usr/local/lib/python3.10/dist-packages (from Flask<3.1,>=1.0.4->dash) (1.9.0)\n",
            "Requirement already satisfied: MarkupSafe>=2.1.1 in /usr/local/lib/python3.10/dist-packages (from Werkzeug<3.1->dash) (3.0.2)\n",
            "Requirement already satisfied: zipp>=3.20 in /usr/local/lib/python3.10/dist-packages (from importlib-metadata->dash) (3.21.0)\n",
            "Requirement already satisfied: charset-normalizer<4,>=2 in /usr/local/lib/python3.10/dist-packages (from requests->dash) (3.4.0)\n",
            "Requirement already satisfied: idna<4,>=2.5 in /usr/local/lib/python3.10/dist-packages (from requests->dash) (3.10)\n",
            "Requirement already satisfied: urllib3<3,>=1.21.1 in /usr/local/lib/python3.10/dist-packages (from requests->dash) (2.2.3)\n",
            "Requirement already satisfied: certifi>=2017.4.17 in /usr/local/lib/python3.10/dist-packages (from requests->dash) (2024.8.30)\n",
            "Requirement already satisfied: six>=1.7.0 in /usr/local/lib/python3.10/dist-packages (from retrying->dash) (1.16.0)\n"
          ]
        }
      ]
    },
    {
      "cell_type": "code",
      "source": [
        "!pip install dash plotly"
      ],
      "metadata": {
        "colab": {
          "base_uri": "https://localhost:8080/"
        },
        "id": "QUqerE2Ls8E_",
        "outputId": "68db8121-f88c-40b4-b822-036c277b733e"
      },
      "execution_count": 2,
      "outputs": [
        {
          "output_type": "stream",
          "name": "stdout",
          "text": [
            "Collecting dash\n",
            "  Downloading dash-2.18.2-py3-none-any.whl.metadata (10 kB)\n",
            "Requirement already satisfied: plotly in /usr/local/lib/python3.10/dist-packages (5.24.1)\n",
            "Collecting Flask<3.1,>=1.0.4 (from dash)\n",
            "  Downloading flask-3.0.3-py3-none-any.whl.metadata (3.2 kB)\n",
            "Collecting Werkzeug<3.1 (from dash)\n",
            "  Downloading werkzeug-3.0.6-py3-none-any.whl.metadata (3.7 kB)\n",
            "Collecting dash-html-components==2.0.0 (from dash)\n",
            "  Downloading dash_html_components-2.0.0-py3-none-any.whl.metadata (3.8 kB)\n",
            "Collecting dash-core-components==2.0.0 (from dash)\n",
            "  Downloading dash_core_components-2.0.0-py3-none-any.whl.metadata (2.9 kB)\n",
            "Collecting dash-table==5.0.0 (from dash)\n",
            "  Downloading dash_table-5.0.0-py3-none-any.whl.metadata (2.4 kB)\n",
            "Requirement already satisfied: importlib-metadata in /usr/local/lib/python3.10/dist-packages (from dash) (8.5.0)\n",
            "Requirement already satisfied: typing-extensions>=4.1.1 in /usr/local/lib/python3.10/dist-packages (from dash) (4.12.2)\n",
            "Requirement already satisfied: requests in /usr/local/lib/python3.10/dist-packages (from dash) (2.32.3)\n",
            "Collecting retrying (from dash)\n",
            "  Downloading retrying-1.3.4-py3-none-any.whl.metadata (6.9 kB)\n",
            "Requirement already satisfied: nest-asyncio in /usr/local/lib/python3.10/dist-packages (from dash) (1.6.0)\n",
            "Requirement already satisfied: setuptools in /usr/local/lib/python3.10/dist-packages (from dash) (75.1.0)\n",
            "Requirement already satisfied: tenacity>=6.2.0 in /usr/local/lib/python3.10/dist-packages (from plotly) (9.0.0)\n",
            "Requirement already satisfied: packaging in /usr/local/lib/python3.10/dist-packages (from plotly) (24.2)\n",
            "Requirement already satisfied: Jinja2>=3.1.2 in /usr/local/lib/python3.10/dist-packages (from Flask<3.1,>=1.0.4->dash) (3.1.4)\n",
            "Requirement already satisfied: itsdangerous>=2.1.2 in /usr/local/lib/python3.10/dist-packages (from Flask<3.1,>=1.0.4->dash) (2.2.0)\n",
            "Requirement already satisfied: click>=8.1.3 in /usr/local/lib/python3.10/dist-packages (from Flask<3.1,>=1.0.4->dash) (8.1.7)\n",
            "Requirement already satisfied: blinker>=1.6.2 in /usr/local/lib/python3.10/dist-packages (from Flask<3.1,>=1.0.4->dash) (1.9.0)\n",
            "Requirement already satisfied: MarkupSafe>=2.1.1 in /usr/local/lib/python3.10/dist-packages (from Werkzeug<3.1->dash) (3.0.2)\n",
            "Requirement already satisfied: zipp>=3.20 in /usr/local/lib/python3.10/dist-packages (from importlib-metadata->dash) (3.21.0)\n",
            "Requirement already satisfied: charset-normalizer<4,>=2 in /usr/local/lib/python3.10/dist-packages (from requests->dash) (3.4.0)\n",
            "Requirement already satisfied: idna<4,>=2.5 in /usr/local/lib/python3.10/dist-packages (from requests->dash) (3.10)\n",
            "Requirement already satisfied: urllib3<3,>=1.21.1 in /usr/local/lib/python3.10/dist-packages (from requests->dash) (2.2.3)\n",
            "Requirement already satisfied: certifi>=2017.4.17 in /usr/local/lib/python3.10/dist-packages (from requests->dash) (2024.12.14)\n",
            "Requirement already satisfied: six>=1.7.0 in /usr/local/lib/python3.10/dist-packages (from retrying->dash) (1.17.0)\n",
            "Downloading dash-2.18.2-py3-none-any.whl (7.8 MB)\n",
            "\u001b[2K   \u001b[90m━━━━━━━━━━━━━━━━━━━━━━━━━━━━━━━━━━━━━━━━\u001b[0m \u001b[32m7.8/7.8 MB\u001b[0m \u001b[31m87.4 MB/s\u001b[0m eta \u001b[36m0:00:00\u001b[0m\n",
            "\u001b[?25hDownloading dash_core_components-2.0.0-py3-none-any.whl (3.8 kB)\n",
            "Downloading dash_html_components-2.0.0-py3-none-any.whl (4.1 kB)\n",
            "Downloading dash_table-5.0.0-py3-none-any.whl (3.9 kB)\n",
            "Downloading flask-3.0.3-py3-none-any.whl (101 kB)\n",
            "\u001b[2K   \u001b[90m━━━━━━━━━━━━━━━━━━━━━━━━━━━━━━━━━━━━━━━━\u001b[0m \u001b[32m101.7/101.7 kB\u001b[0m \u001b[31m8.5 MB/s\u001b[0m eta \u001b[36m0:00:00\u001b[0m\n",
            "\u001b[?25hDownloading werkzeug-3.0.6-py3-none-any.whl (227 kB)\n",
            "\u001b[2K   \u001b[90m━━━━━━━━━━━━━━━━━━━━━━━━━━━━━━━━━━━━━━━━\u001b[0m \u001b[32m228.0/228.0 kB\u001b[0m \u001b[31m18.0 MB/s\u001b[0m eta \u001b[36m0:00:00\u001b[0m\n",
            "\u001b[?25hDownloading retrying-1.3.4-py3-none-any.whl (11 kB)\n",
            "Installing collected packages: dash-table, dash-html-components, dash-core-components, Werkzeug, retrying, Flask, dash\n",
            "  Attempting uninstall: Werkzeug\n",
            "    Found existing installation: Werkzeug 3.1.3\n",
            "    Uninstalling Werkzeug-3.1.3:\n",
            "      Successfully uninstalled Werkzeug-3.1.3\n",
            "  Attempting uninstall: Flask\n",
            "    Found existing installation: Flask 3.1.0\n",
            "    Uninstalling Flask-3.1.0:\n",
            "      Successfully uninstalled Flask-3.1.0\n",
            "Successfully installed Flask-3.0.3 Werkzeug-3.0.6 dash-2.18.2 dash-core-components-2.0.0 dash-html-components-2.0.0 dash-table-5.0.0 retrying-1.3.4\n"
          ]
        }
      ]
    },
    {
      "cell_type": "code",
      "source": [
        "import dash\n",
        "from dash import dcc, html\n",
        "import plotly.express as px\n",
        "import pandas as pd\n",
        "\n",
        "# Membaca dataset\n",
        "file_path = 'starbucks.csv'  # Ganti dengan jalur file Anda jika perlu\n",
        "df = pd.read_csv(file_path)\n",
        "\n",
        "# Menghapus spasi ekstra pada nama kolom\n",
        "df.columns = df.columns.str.strip()\n",
        "\n",
        "# Convert 'Total Fat (g)' to numeric, handling errors\n",
        "df['Total Fat (g)'] = pd.to_numeric(df['Total Fat (g)'], errors='coerce')\n",
        "\n",
        "# 1. Histogram untuk Kolom 'Calories'\n",
        "fig_calories = px.histogram(df, x=\"Calories\", title=\"Distribusi Kalori Minuman\", nbins=10)\n",
        "\n",
        "# 2. Scatter plot untuk Kalori vs Kafein\n",
        "fig_calories_caffeine = px.scatter(df, x=\"Calories\", y=\"Caffeine (mg)\", color=\"Beverage_category\", title=\"Kalori vs Kafein\",\n",
        "                                    labels={\"Caffeine (mg)\": \"Kafein (mg)\", \"Calories\": \"Kalori (kcal)\"})\n",
        "# 3. Grafik Batang untuk Rata-rata Total Fat per Kategori Minuman\n",
        "fig_fat = px.bar(df.groupby(\"Beverage_category\")[\"Total Fat (g)\"].mean().reset_index(),\n",
        "                 x=\"Beverage_category\", y=\"Total Fat (g)\", title=\"Rata-rata Total Fat per Kategori Minuman\")\n",
        "\n",
        "# 4. Box Plot untuk Kalori berdasarkan Kategori Minuman\n",
        "fig_calories_box = px.box(df, x=\"Beverage_category\", y=\"Calories\", title=\"Distribusi Kalori per Kategori Minuman\")\n",
        "\n",
        "# Membuat aplikasi Dash\n",
        "app = dash.Dash(__name__)\n",
        "\n",
        "# Layout dashboard\n",
        "app.layout = html.Div(children=[\n",
        "    html.H1(\"Dashboard Starbucks\", style={'textAlign': 'center'}),\n",
        "\n",
        "    html.Div([\n",
        "        html.Div([\n",
        "            dcc.Graph(figure=fig_calories),\n",
        "        ], style={'width': '48%', 'display': 'inline-block'}),\n",
        "\n",
        "        html.Div([\n",
        "            dcc.Graph(figure=fig_calories_caffeine),\n",
        "        ], style={'width': '48%', 'display': 'inline-block'}),\n",
        "    ]),\n",
        "\n",
        "    html.Div([\n",
        "        html.Div([\n",
        "            dcc.Graph(figure=fig_fat),\n",
        "        ], style={'width': '48%', 'display': 'inline-block'}),\n",
        "\n",
        "        html.Div([\n",
        "            dcc.Graph(figure=fig_calories_box),\n",
        "        ], style={'width': '48%', 'display': 'inline-block'}),\n",
        "    ]),\n",
        "\n",
        "])\n",
        "\n",
        "# Menjalankan aplikasi\n",
        "if __name__ == '__main__':\n",
        "    app.run_server(debug=True)\n"
      ],
      "metadata": {
        "colab": {
          "base_uri": "https://localhost:8080/",
          "height": 671
        },
        "id": "8sqft1iWtht-",
        "outputId": "e37c5736-84bd-40db-f39d-2c98aebf09ef"
      },
      "execution_count": 5,
      "outputs": [
        {
          "output_type": "display_data",
          "data": {
            "text/plain": [
              "<IPython.core.display.Javascript object>"
            ],
            "application/javascript": [
              "(async (port, path, width, height, cache, element) => {\n",
              "    if (!google.colab.kernel.accessAllowed && !cache) {\n",
              "      return;\n",
              "    }\n",
              "    element.appendChild(document.createTextNode(''));\n",
              "    const url = await google.colab.kernel.proxyPort(port, {cache});\n",
              "    const iframe = document.createElement('iframe');\n",
              "    iframe.src = new URL(path, url).toString();\n",
              "    iframe.height = height;\n",
              "    iframe.width = width;\n",
              "    iframe.style.border = 0;\n",
              "    iframe.allow = [\n",
              "        'accelerometer',\n",
              "        'autoplay',\n",
              "        'camera',\n",
              "        'clipboard-read',\n",
              "        'clipboard-write',\n",
              "        'gyroscope',\n",
              "        'magnetometer',\n",
              "        'microphone',\n",
              "        'serial',\n",
              "        'usb',\n",
              "        'xr-spatial-tracking',\n",
              "    ].join('; ');\n",
              "    element.appendChild(iframe);\n",
              "  })(8050, \"/\", \"100%\", 650, false, window.element)"
            ]
          },
          "metadata": {}
        }
      ]
    }
  ]
}