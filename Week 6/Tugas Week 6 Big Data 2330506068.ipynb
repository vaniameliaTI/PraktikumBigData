{
 "cells": [
  {
   "cell_type": "markdown",
   "id": "f89f7684",
   "metadata": {},
   "source": [
    "# Hands-O Pertemuan 6: Data Processing dengan Apache Spark"
   ]
  },
  {
   "cell_type": "markdown",
   "id": "2e92af84-e7f0-4a23-978b-41f2093e20b3",
   "metadata": {},
   "source": [
    "**Tugas 1**\n",
    "\n",
    "Buat DataFrame sederhana di spark dan eksplorasi beberapa fungsi dasar yang tersedia"
   ]
  },
  {
   "cell_type": "code",
   "execution_count": 4,
   "id": "453d5176-84c6-4752-9f0a-0fd43e071b03",
   "metadata": {},
   "outputs": [],
   "source": [
    "import findspark\n",
    "findspark.init()"
   ]
  },
  {
   "cell_type": "code",
   "execution_count": 7,
   "id": "a0a3dad5-e50f-47e0-8439-baabd70de38e",
   "metadata": {},
   "outputs": [
    {
     "name": "stdout",
     "output_type": "stream",
     "text": [
      "+------------+----------+------+\n",
      "|EmployeeName|Department|Salary|\n",
      "+------------+----------+------+\n",
      "|       Vania|  Desainer| 10000|\n",
      "|       Febri| Marketing|  6600|\n",
      "|      Junior|  Desainer|  9900|\n",
      "|        Ling|  Desainer|  9800|\n",
      "+------------+----------+------+\n",
      "\n"
     ]
    }
   ],
   "source": [
    "from pyspark.sql import SparkSession\n",
    "from pyspark.sql import functions as F\n",
    "spark = SparkSession.builder.appName('HandsOnPertemuan^').getOrCreate()\n",
    "\n",
    "data = [('Vania', 'Desainer', 10000),\n",
    "        ('Febri', 'Marketing', 6600),\n",
    "        ('Junior', 'Desainer', 9900),\n",
    "        ('Ling', 'Desainer', 9800)]\n",
    "columns = ['EmployeeName', 'Department', 'Salary']\n",
    "df = spark.createDataFrame(data, schema=columns)\n",
    "df.show()"
   ]
  },
  {
   "cell_type": "markdown",
   "id": "fc155458-01c5-41c6-88ed-3b45ab04cd15",
   "metadata": {},
   "source": [
    "**Tugas 2**\n",
    "\n",
    "  Gunakan operasi filter, select, groupBy untuk mengekstrak informasi dari data, serta lakukan agregasi data untuk mendapatkan insight tentang dataset menggunakan perintah seperti mean, max, dan sum"
   ]
  },
  {
   "cell_type": "code",
   "execution_count": 8,
   "id": "3572aa39-3f93-4594-a7f8-83c420810485",
   "metadata": {},
   "outputs": [
    {
     "name": "stdout",
     "output_type": "stream",
     "text": [
      "+------------+------+\n",
      "|employeeName|Salary|\n",
      "+------------+------+\n",
      "|       Vania| 10000|\n",
      "|       Febri|  6600|\n",
      "|      Junior|  9900|\n",
      "|        Ling|  9800|\n",
      "+------------+------+\n",
      "\n",
      "+------------+----------+------+\n",
      "|EmployeeName|Department|Salary|\n",
      "+------------+----------+------+\n",
      "|       Vania|  Desainer| 10000|\n",
      "|      Junior|  Desainer|  9900|\n",
      "|        Ling|  Desainer|  9800|\n",
      "+------------+----------+------+\n",
      "\n",
      "+----------+-----------+\n",
      "|Department|avg(Salary)|\n",
      "+----------+-----------+\n",
      "|  Desainer|     9900.0|\n",
      "| Marketing|     6600.0|\n",
      "+----------+-----------+\n",
      "\n",
      "+----------+-----------+----------+------------+\n",
      "|Department|mean_salary|max_salary|total_salary|\n",
      "+----------+-----------+----------+------------+\n",
      "|  Desainer|     9900.0|     10000|       29700|\n",
      "| Marketing|     6600.0|      6600|        6600|\n",
      "+----------+-----------+----------+------------+\n",
      "\n"
     ]
    }
   ],
   "source": [
    "df.select('employeeName', 'Salary').show()\n",
    "df.filter(df['Salary'] > 7000).show()\n",
    "df.groupBy('Department').avg('Salary').show()\n",
    "df.groupBy('Department').agg(\n",
    "    F.mean('Salary').alias('mean_salary'),\n",
    "    F.max('Salary').alias('max_salary'),\n",
    "    F.sum('Salary').alias('total_salary'),\n",
    ").show()"
   ]
  },
  {
   "cell_type": "markdown",
   "id": "a0eebc50-83b6-4482-a80d-698fa0257b0e",
   "metadata": {},
   "source": [
    "**Tugas 3**\n",
    "Eksplorasi bagaimana mengolah tipe data kompleks dalam Spark DataFrames."
   ]
  },
  {
   "cell_type": "code",
   "execution_count": 9,
   "id": "12390de4-6061-4545-85c1-fe4d1b7ca1f7",
   "metadata": {},
   "outputs": [
    {
     "name": "stdout",
     "output_type": "stream",
     "text": [
      "+------------+----------+------+-----------+-----------------+\n",
      "|EmployeeName|Department|Salary|SalaryBonus|TotalCompensation|\n",
      "+------------+----------+------+-----------+-----------------+\n",
      "|       Vania|  Desainer| 10000|     1000.0|          11000.0|\n",
      "|       Febri| Marketing|  6600|      660.0|           7260.0|\n",
      "|      Junior|  Desainer|  9900|      990.0|          10890.0|\n",
      "|        Ling|  Desainer|  9800|      980.0|          10780.0|\n",
      "+------------+----------+------+-----------+-----------------+\n",
      "\n"
     ]
    }
   ],
   "source": [
    "df = df.withColumn('SalaryBonus', df['Salary'] * 0.1)\n",
    "df = df.withColumn('TotalCompensation', df['Salary'] + df['Salarybonus'])\n",
    "df.show()"
   ]
  },
  {
   "cell_type": "markdown",
   "id": "1d6065cc-2a3c-4ba9-b3b1-ec3974032a72",
   "metadata": {},
   "source": [
    "**Tugas 4**\n",
    "\n",
    "Implementasi window function untuk menghitung running totals atau rangkings."
   ]
  },
  {
   "cell_type": "code",
   "execution_count": 16,
   "id": "08361e0b-3883-4c8e-900e-8dbc20cb2d8e",
   "metadata": {},
   "outputs": [
    {
     "name": "stdout",
     "output_type": "stream",
     "text": [
      "+------------+----------+------+-----------+-----------------+----+\n",
      "|EmployeeName|Department|Salary|SalaryBonus|TotalCompensation|Rank|\n",
      "+------------+----------+------+-----------+-----------------+----+\n",
      "|        Ling|  Desainer|  9800|      980.0|          10780.0|   1|\n",
      "|      Junior|  Desainer|  9900|      990.0|          10890.0|   2|\n",
      "|       Vania|  Desainer| 10000|     1000.0|          11000.0|   3|\n",
      "|       Febri| Marketing|  6600|      660.0|           7260.0|   1|\n",
      "+------------+----------+------+-----------+-----------------+----+\n",
      "\n"
     ]
    }
   ],
   "source": [
    "from pyspark.sql.window import Window\n",
    "from pyspark.sql import functions as F\n",
    "\n",
    "windowSpec = Window.partitionBy('Department').orderBy('Salary')\n",
    "df.withColumn('Rank', F.rank().over(windowSpec)).show()"
   ]
  },
  {
   "cell_type": "markdown",
   "id": "413d29fe-3583-45fc-b57f-2f3b6cf4d1f2",
   "metadata": {},
   "source": [
    "**Tugas 5**\n",
    "\n",
    "Buat ringkasan dari semua operasi yang telah dilakukan dan bagaimana teknik ini dapat diterapkan pada proyek data anda.\n",
    "\n",
    "**Operasi Transformasi**\n",
    "\n",
    "*  map(): Menerapkan fungsi ke setiap elemen dalam DataFrame dan menghasilkan DataFrame baru.\r",
    "* \n",
    "filter(): Memilih elemen-elemen yang memenuhi kondisi tertentu\n",
    "* \r\n",
    "filterMap(): Sama seperti map() setiap elemen dapat diubah menjadi beberapa eleme\n",
    "* .\r\n",
    "distinct(): Menghapus duplikasi elemen dalam DataFra\n",
    "* e.\r\n",
    "sample(): Mengambil sampel acak dari Dataf.\n",
    "* me.\r\n",
    "union(): Menggabungkan dua DataFrame menjadi.\n",
    "* atu.\r\n",
    "groupBy(): Mengelompokan elemen berdasarkan kunci yang diten\n",
    "* ukan.\r\n",
    "join(): Menggabungkan dus DataFrame berdasarkan\n",
    "* kunci.\r\n",
    "sortBy(): Mengurutkan elemen-elemen berdasarkan kondisi t\n",
    "  \n",
    "\n",
    "**Operasi Aksi**\n",
    "\n",
    "* collect(): Menggambil semua elemen dari DataFrame dan mengembalikan ke driver.\n",
    "* \n",
    "count(): Menghitung jumlah elemen dalam DataFrame\n",
    "* \r\n",
    "reduce(): Menggabungkan elemen-elemen DataFrame menggunakan fungsi asosiatif (misalnya, untuk menghitung tota-l atau maksimum\n",
    "* .\r\n",
    "take(n): Mengambil n elemen pertama dari DataFra\n",
    "* e.\r\n",
    "saveAsTextFile(): Menyimpan elemen DataFrame ke file teks.ertentu."
   ]
  },
  {
   "cell_type": "code",
   "execution_count": null,
   "id": "39ee52c9-e3d5-4f00-81c5-54a070b9fa18",
   "metadata": {},
   "outputs": [],
   "source": []
  }
 ],
 "metadata": {
  "kernelspec": {
   "display_name": "Python 3 (ipykernel)",
   "language": "python",
   "name": "python3"
  },
  "language_info": {
   "codemirror_mode": {
    "name": "ipython",
    "version": 3
   },
   "file_extension": ".py",
   "mimetype": "text/x-python",
   "name": "python",
   "nbconvert_exporter": "python",
   "pygments_lexer": "ipython3",
   "version": "3.11.9"
  }
 },
 "nbformat": 4,
 "nbformat_minor": 5
}
