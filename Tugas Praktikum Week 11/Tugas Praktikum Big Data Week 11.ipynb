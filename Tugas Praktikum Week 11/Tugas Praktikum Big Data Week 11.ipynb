{
 "cells": [
  {
   "cell_type": "markdown",
   "id": "f8ac060c-2148-44cd-bf7e-8e6a700e7b75",
   "metadata": {},
   "source": [
    "### 1. Advanced CRUD Operations\n",
    "- **Exercise 1**: Use `bulk_write` to insert, update, and delete multiple documents simultaneously.\n",
    "- **Task 1**: Insert a dataset of `courses` where each course has multiple student enrollments, then display the data."
   ]
  },
  {
   "cell_type": "code",
   "execution_count": 1,
   "id": "e6b5146f-c791-4e05-a59e-885cb918f14d",
   "metadata": {},
   "outputs": [
    {
     "name": "stdout",
     "output_type": "stream",
     "text": [
      "Requirement already satisfied: pymongo in c:\\users\\asus\\anaconda3\\envs\\praktikumbigdatarombel2\\lib\\site-packages (4.10.1)\n",
      "Requirement already satisfied: dnspython<3.0.0,>=1.16.0 in c:\\users\\asus\\anaconda3\\envs\\praktikumbigdatarombel2\\lib\\site-packages (from pymongo) (2.7.0)\n"
     ]
    }
   ],
   "source": [
    "!pip install pymongo"
   ]
  },
  {
   "cell_type": "code",
   "execution_count": 2,
   "id": "f0c8678c-a8f3-40eb-aead-5d31558bc168",
   "metadata": {},
   "outputs": [
    {
     "name": "stdout",
     "output_type": "stream",
     "text": [
      "Courses inserted successfully.\n"
     ]
    }
   ],
   "source": [
    "from pymongo import MongoClient, InsertOne, UpdateOne, DeleteOne\n",
    "\n",
    "client = MongoClient('mongodb://localhost:27017/')\n",
    "db = client['university_db']\n",
    "courses_collection = db['courses']\n",
    "courses_collection.delete_many({})\n",
    "\n",
    "\n",
    "operations = [\n",
    "   InsertOne({'course': 'Math 101', 'enrollments': 30, 'department': 'Mathematics'}),\n",
    "    InsertOne({'course': 'Math 102', 'enrollments': 28, 'department': 'Mathematics'}),\n",
    "    InsertOne({'course': 'Math 103', 'enrollments': 35, 'department': 'Mathematics'}),\n",
    "    InsertOne({'course': 'Math 104', 'enrollments': 32, 'department': 'Mathematics'}),\n",
    "    InsertOne({'course': 'Math 105', 'enrollments': 27, 'department': 'Mathematics'}),\n",
    "    \n",
    "    # Computer Science Department\n",
    "    InsertOne({'course': 'CS 101', 'enrollments': 25, 'department': 'Computer Science'}),\n",
    "    InsertOne({'course': 'CS 102', 'enrollments': 26, 'department': 'Computer Science'}),\n",
    "    InsertOne({'course': 'CS 103', 'enrollments': 29, 'department': 'Computer Science'}),\n",
    "    InsertOne({'course': 'CS 104', 'enrollments': 31, 'department': 'Computer Science'}),\n",
    "    InsertOne({'course': 'CS 105', 'enrollments': 33, 'department': 'Computer Science'}),\n",
    "    \n",
    "    # History Department\n",
    "    InsertOne({'course': 'History 101', 'enrollments': 20, 'department': 'History'}),\n",
    "    InsertOne({'course': 'History 102', 'enrollments': 22, 'department': 'History'}),\n",
    "    InsertOne({'course': 'History 103', 'enrollments': 18, 'department': 'History'}),\n",
    "    InsertOne({'course': 'History 104', 'enrollments': 24, 'department': 'History'}),\n",
    "    InsertOne({'course': 'History 105', 'enrollments': 19, 'department': 'History'}),\n",
    "    \n",
    "    # Physics Department\n",
    "    InsertOne({'course': 'Physics 101', 'enrollments': 15, 'department': 'Physics'}),\n",
    "    InsertOne({'course': 'Physics 102', 'enrollments': 18, 'department': 'Physics'}),\n",
    "    InsertOne({'course': 'Physics 103', 'enrollments': 20, 'department': 'Physics'}),\n",
    "    InsertOne({'course': 'Physics 104', 'enrollments': 17, 'department': 'Physics'}),\n",
    "    InsertOne({'course': 'Physics 105', 'enrollments': 19, 'department': 'Physics'})\n",
    "]\n",
    "courses_collection.bulk_write(operations)\n",
    "print('Courses inserted successfully.')\n",
    "\n"
   ]
  },
  {
   "cell_type": "code",
   "execution_count": 3,
   "id": "a1adeb70-c0c2-4601-9d52-ac0be0e279f0",
   "metadata": {},
   "outputs": [
    {
     "name": "stdout",
     "output_type": "stream",
     "text": [
      "Update and Delete operation completed.\n",
      "{'_id': ObjectId('672b19df0f0155d030e1360e'), 'course': 'Math 101', 'enrollments': 35, 'department': 'Mathematics'}\n",
      "{'_id': ObjectId('672b19df0f0155d030e1360f'), 'course': 'Math 102', 'enrollments': 28, 'department': 'Mathematics'}\n",
      "{'_id': ObjectId('672b19df0f0155d030e13610'), 'course': 'Math 103', 'enrollments': 35, 'department': 'Mathematics'}\n",
      "{'_id': ObjectId('672b19df0f0155d030e13611'), 'course': 'Math 104', 'enrollments': 32, 'department': 'Mathematics'}\n",
      "{'_id': ObjectId('672b19df0f0155d030e13612'), 'course': 'Math 105', 'enrollments': 27, 'department': 'Mathematics'}\n",
      "{'_id': ObjectId('672b19df0f0155d030e13613'), 'course': 'CS 101', 'enrollments': 25, 'department': 'Computer Science'}\n",
      "{'_id': ObjectId('672b19df0f0155d030e13614'), 'course': 'CS 102', 'enrollments': 26, 'department': 'Computer Science'}\n",
      "{'_id': ObjectId('672b19df0f0155d030e13615'), 'course': 'CS 103', 'enrollments': 29, 'department': 'Computer Science'}\n",
      "{'_id': ObjectId('672b19df0f0155d030e13616'), 'course': 'CS 104', 'enrollments': 31, 'department': 'Computer Science'}\n",
      "{'_id': ObjectId('672b19df0f0155d030e13617'), 'course': 'CS 105', 'enrollments': 33, 'department': 'Computer Science'}\n",
      "{'_id': ObjectId('672b19df0f0155d030e13618'), 'course': 'History 101', 'enrollments': 20, 'department': 'History'}\n",
      "{'_id': ObjectId('672b19df0f0155d030e13619'), 'course': 'History 102', 'enrollments': 22, 'department': 'History'}\n",
      "{'_id': ObjectId('672b19df0f0155d030e1361a'), 'course': 'History 103', 'enrollments': 18, 'department': 'History'}\n",
      "{'_id': ObjectId('672b19df0f0155d030e1361b'), 'course': 'History 104', 'enrollments': 24, 'department': 'History'}\n",
      "{'_id': ObjectId('672b19df0f0155d030e1361c'), 'course': 'History 105', 'enrollments': 19, 'department': 'History'}\n",
      "{'_id': ObjectId('672b19df0f0155d030e1361d'), 'course': 'Physics 101', 'enrollments': 15, 'department': 'Physics'}\n",
      "{'_id': ObjectId('672b19df0f0155d030e1361e'), 'course': 'Physics 102', 'enrollments': 18, 'department': 'Physics'}\n",
      "{'_id': ObjectId('672b19df0f0155d030e1361f'), 'course': 'Physics 103', 'enrollments': 20, 'department': 'Physics'}\n",
      "{'_id': ObjectId('672b19df0f0155d030e13620'), 'course': 'Physics 104', 'enrollments': 17, 'department': 'Physics'}\n",
      "{'_id': ObjectId('672b19df0f0155d030e13621'), 'course': 'Physics 105', 'enrollments': 19, 'department': 'Physics'}\n"
     ]
    }
   ],
   "source": [
    "update_operations = [ \n",
    "    UpdateOne({'course': 'Math 101'}, {'$set': {'enrollments': 35}})\n",
    "]\n",
    "\n",
    "delete_operations = [\n",
    "    DeleteOne({'course': 'Physics 202'})\n",
    "]\n",
    "\n",
    "courses_collection.bulk_write(update_operations + delete_operations)\n",
    "print('Update and Delete operation completed.')\n",
    "\n",
    "all_courses = courses_collection.find()\n",
    "for course in all_courses:\n",
    "    print(course)"
   ]
  },
  {
   "cell_type": "markdown",
   "id": "afcdb745-3994-4a8f-970b-a38926bb0b33",
   "metadata": {},
   "source": [
    "### 2. Complex Filtering and Querying\n",
    "- **Exercise 2**: Filter courses with enrollments over 20 students.\n",
    "- **Task 2**: Retrieve and display courses only from the 'Computer Science' or 'Mathematics' departments.\n"
   ]
  },
  {
   "cell_type": "code",
   "execution_count": 4,
   "id": "98112e5a-cfdf-46f1-bf01-1d283dccd508",
   "metadata": {},
   "outputs": [
    {
     "name": "stdout",
     "output_type": "stream",
     "text": [
      "{'_id': ObjectId('672b19df0f0155d030e1360e'), 'course': 'Math 101', 'enrollments': 35, 'department': 'Mathematics'}\n",
      "{'_id': ObjectId('672b19df0f0155d030e1360f'), 'course': 'Math 102', 'enrollments': 28, 'department': 'Mathematics'}\n",
      "{'_id': ObjectId('672b19df0f0155d030e13610'), 'course': 'Math 103', 'enrollments': 35, 'department': 'Mathematics'}\n",
      "{'_id': ObjectId('672b19df0f0155d030e13611'), 'course': 'Math 104', 'enrollments': 32, 'department': 'Mathematics'}\n",
      "{'_id': ObjectId('672b19df0f0155d030e13612'), 'course': 'Math 105', 'enrollments': 27, 'department': 'Mathematics'}\n",
      "{'_id': ObjectId('672b19df0f0155d030e13613'), 'course': 'CS 101', 'enrollments': 25, 'department': 'Computer Science'}\n",
      "{'_id': ObjectId('672b19df0f0155d030e13614'), 'course': 'CS 102', 'enrollments': 26, 'department': 'Computer Science'}\n",
      "{'_id': ObjectId('672b19df0f0155d030e13615'), 'course': 'CS 103', 'enrollments': 29, 'department': 'Computer Science'}\n",
      "{'_id': ObjectId('672b19df0f0155d030e13616'), 'course': 'CS 104', 'enrollments': 31, 'department': 'Computer Science'}\n",
      "{'_id': ObjectId('672b19df0f0155d030e13617'), 'course': 'CS 105', 'enrollments': 33, 'department': 'Computer Science'}\n",
      "{'_id': ObjectId('672b19df0f0155d030e13619'), 'course': 'History 102', 'enrollments': 22, 'department': 'History'}\n",
      "{'_id': ObjectId('672b19df0f0155d030e1361b'), 'course': 'History 104', 'enrollments': 24, 'department': 'History'}\n"
     ]
    }
   ],
   "source": [
    "for course in courses_collection.find({'enrollments': {'$gt': 20}}):\n",
    "    print(course)"
   ]
  },
  {
   "cell_type": "code",
   "execution_count": 5,
   "id": "7262283b-6d52-4d4e-a995-09e20368e275",
   "metadata": {},
   "outputs": [
    {
     "name": "stdout",
     "output_type": "stream",
     "text": [
      "{'_id': ObjectId('672b19df0f0155d030e1360e'), 'course': 'Math 101', 'enrollments': 35, 'department': 'Mathematics'}\n",
      "{'_id': ObjectId('672b19df0f0155d030e1360f'), 'course': 'Math 102', 'enrollments': 28, 'department': 'Mathematics'}\n",
      "{'_id': ObjectId('672b19df0f0155d030e13610'), 'course': 'Math 103', 'enrollments': 35, 'department': 'Mathematics'}\n",
      "{'_id': ObjectId('672b19df0f0155d030e13611'), 'course': 'Math 104', 'enrollments': 32, 'department': 'Mathematics'}\n",
      "{'_id': ObjectId('672b19df0f0155d030e13612'), 'course': 'Math 105', 'enrollments': 27, 'department': 'Mathematics'}\n",
      "{'_id': ObjectId('672b19df0f0155d030e13613'), 'course': 'CS 101', 'enrollments': 25, 'department': 'Computer Science'}\n",
      "{'_id': ObjectId('672b19df0f0155d030e13614'), 'course': 'CS 102', 'enrollments': 26, 'department': 'Computer Science'}\n",
      "{'_id': ObjectId('672b19df0f0155d030e13615'), 'course': 'CS 103', 'enrollments': 29, 'department': 'Computer Science'}\n",
      "{'_id': ObjectId('672b19df0f0155d030e13616'), 'course': 'CS 104', 'enrollments': 31, 'department': 'Computer Science'}\n",
      "{'_id': ObjectId('672b19df0f0155d030e13617'), 'course': 'CS 105', 'enrollments': 33, 'department': 'Computer Science'}\n"
     ]
    }
   ],
   "source": [
    "\n",
    "# Jalankan filter pencarian\n",
    "for course in courses_collection.find({'department': {'$in': ['Computer Science', 'Mathematics']}}):\n",
    "    print(course)\n"
   ]
  },
  {
   "cell_type": "markdown",
   "id": "58c6b0f9-7a84-4c20-bcb5-fcc31167905f",
   "metadata": {},
   "source": [
    "### 3. Aggregation Framework for Data Analysis\n",
    "- **Exercise 3**: Use aggregation to find the average enrollment per department.\n",
    "- **Task 3**: Create an aggregation pipeline that finds the maximum enrollment for each department."
   ]
  },
  {
   "cell_type": "code",
   "execution_count": 6,
   "id": "6d051a21-c178-459f-bc8f-ab96f37a862e",
   "metadata": {},
   "outputs": [
    {
     "name": "stdout",
     "output_type": "stream",
     "text": [
      "{'_id': 'Physics', 'average_enrollment': 17.8}\n",
      "{'_id': 'Computer Science', 'average_enrollment': 28.8}\n",
      "{'_id': 'Mathematics', 'average_enrollment': 31.4}\n",
      "{'_id': 'History', 'average_enrollment': 20.6}\n"
     ]
    }
   ],
   "source": [
    "# Average enrollment per department using aggregation\n",
    "pipeline = [\n",
    "    {'$group': {'_id': '$department', 'average_enrollment': {'$avg': '$enrollments'}}}\n",
    "]\n",
    "for result in courses_collection.aggregate(pipeline):\n",
    "    print(result)"
   ]
  },
  {
   "cell_type": "code",
   "execution_count": 7,
   "id": "2d670d71-a939-4a09-b225-7adeeaf02b68",
   "metadata": {},
   "outputs": [
    {
     "name": "stdout",
     "output_type": "stream",
     "text": [
      "{'_id': 'Mathematics', 'max_enrollment': 35}\n",
      "{'_id': 'History', 'max_enrollment': 24}\n",
      "{'_id': 'Computer Science', 'max_enrollment': 33}\n",
      "{'_id': 'Physics', 'max_enrollment': 20}\n"
     ]
    }
   ],
   "source": [
    "# Maximum enrollment per department\n",
    "pipeline = [\n",
    "    {'$group': {'_id': '$department', 'max_enrollment': {'$max': '$enrollments'}}}\n",
    "]\n",
    "for result in courses_collection.aggregate(pipeline):\n",
    "    print(result)\n"
   ]
  },
  {
   "cell_type": "markdown",
   "id": "ba4fc95a-7f2c-4d9e-8290-0917d52d3f73",
   "metadata": {},
   "source": [
    "### 4. Data Transformation using $project and $addFields\n",
    "- **Exercise 4**: Use `$project` to rename and only show fields: `course_name`, `department_name`, and `enrollments`.\n",
    "- **Task 4**: Use `$addFields` to create a new field `enrollment_category` where enrollments > 20 are 'high' and others 'low'."
   ]
  },
  {
   "cell_type": "code",
   "execution_count": 8,
   "id": "7e060c68-0bf0-450a-a8a9-c247ee0c493b",
   "metadata": {},
   "outputs": [
    {
     "name": "stdout",
     "output_type": "stream",
     "text": [
      "{'_id': ObjectId('672b19df0f0155d030e1360e'), 'enrollments': 35, 'course_name': 'Math 101', 'department_name': 'Mathematics'}\n",
      "{'_id': ObjectId('672b19df0f0155d030e1360f'), 'enrollments': 28, 'course_name': 'Math 102', 'department_name': 'Mathematics'}\n",
      "{'_id': ObjectId('672b19df0f0155d030e13610'), 'enrollments': 35, 'course_name': 'Math 103', 'department_name': 'Mathematics'}\n",
      "{'_id': ObjectId('672b19df0f0155d030e13611'), 'enrollments': 32, 'course_name': 'Math 104', 'department_name': 'Mathematics'}\n",
      "{'_id': ObjectId('672b19df0f0155d030e13612'), 'enrollments': 27, 'course_name': 'Math 105', 'department_name': 'Mathematics'}\n",
      "{'_id': ObjectId('672b19df0f0155d030e13613'), 'enrollments': 25, 'course_name': 'CS 101', 'department_name': 'Computer Science'}\n",
      "{'_id': ObjectId('672b19df0f0155d030e13614'), 'enrollments': 26, 'course_name': 'CS 102', 'department_name': 'Computer Science'}\n",
      "{'_id': ObjectId('672b19df0f0155d030e13615'), 'enrollments': 29, 'course_name': 'CS 103', 'department_name': 'Computer Science'}\n",
      "{'_id': ObjectId('672b19df0f0155d030e13616'), 'enrollments': 31, 'course_name': 'CS 104', 'department_name': 'Computer Science'}\n",
      "{'_id': ObjectId('672b19df0f0155d030e13617'), 'enrollments': 33, 'course_name': 'CS 105', 'department_name': 'Computer Science'}\n",
      "{'_id': ObjectId('672b19df0f0155d030e13618'), 'enrollments': 20, 'course_name': 'History 101', 'department_name': 'History'}\n",
      "{'_id': ObjectId('672b19df0f0155d030e13619'), 'enrollments': 22, 'course_name': 'History 102', 'department_name': 'History'}\n",
      "{'_id': ObjectId('672b19df0f0155d030e1361a'), 'enrollments': 18, 'course_name': 'History 103', 'department_name': 'History'}\n",
      "{'_id': ObjectId('672b19df0f0155d030e1361b'), 'enrollments': 24, 'course_name': 'History 104', 'department_name': 'History'}\n",
      "{'_id': ObjectId('672b19df0f0155d030e1361c'), 'enrollments': 19, 'course_name': 'History 105', 'department_name': 'History'}\n",
      "{'_id': ObjectId('672b19df0f0155d030e1361d'), 'enrollments': 15, 'course_name': 'Physics 101', 'department_name': 'Physics'}\n",
      "{'_id': ObjectId('672b19df0f0155d030e1361e'), 'enrollments': 18, 'course_name': 'Physics 102', 'department_name': 'Physics'}\n",
      "{'_id': ObjectId('672b19df0f0155d030e1361f'), 'enrollments': 20, 'course_name': 'Physics 103', 'department_name': 'Physics'}\n",
      "{'_id': ObjectId('672b19df0f0155d030e13620'), 'enrollments': 17, 'course_name': 'Physics 104', 'department_name': 'Physics'}\n",
      "{'_id': ObjectId('672b19df0f0155d030e13621'), 'enrollments': 19, 'course_name': 'Physics 105', 'department_name': 'Physics'}\n"
     ]
    }
   ],
   "source": [
    "pipeline = [\n",
    "    {'$project': {'course_name': '$course', 'department_name': '$department', 'enrollments': 1}}\n",
    "]\n",
    "for result in courses_collection.aggregate(pipeline):\n",
    "    print(result)"
   ]
  },
  {
   "cell_type": "code",
   "execution_count": 9,
   "id": "9818ddc3-c6c4-44d1-b70b-b55cc2d21953",
   "metadata": {},
   "outputs": [
    {
     "name": "stdout",
     "output_type": "stream",
     "text": [
      "{'_id': ObjectId('672b19df0f0155d030e1360e'), 'course': 'Math 101', 'enrollments': 35, 'department': 'Mathematics', 'enrollment_category': 'high'}\n",
      "{'_id': ObjectId('672b19df0f0155d030e1360f'), 'course': 'Math 102', 'enrollments': 28, 'department': 'Mathematics', 'enrollment_category': 'high'}\n",
      "{'_id': ObjectId('672b19df0f0155d030e13610'), 'course': 'Math 103', 'enrollments': 35, 'department': 'Mathematics', 'enrollment_category': 'high'}\n",
      "{'_id': ObjectId('672b19df0f0155d030e13611'), 'course': 'Math 104', 'enrollments': 32, 'department': 'Mathematics', 'enrollment_category': 'high'}\n",
      "{'_id': ObjectId('672b19df0f0155d030e13612'), 'course': 'Math 105', 'enrollments': 27, 'department': 'Mathematics', 'enrollment_category': 'high'}\n",
      "{'_id': ObjectId('672b19df0f0155d030e13613'), 'course': 'CS 101', 'enrollments': 25, 'department': 'Computer Science', 'enrollment_category': 'high'}\n",
      "{'_id': ObjectId('672b19df0f0155d030e13614'), 'course': 'CS 102', 'enrollments': 26, 'department': 'Computer Science', 'enrollment_category': 'high'}\n",
      "{'_id': ObjectId('672b19df0f0155d030e13615'), 'course': 'CS 103', 'enrollments': 29, 'department': 'Computer Science', 'enrollment_category': 'high'}\n",
      "{'_id': ObjectId('672b19df0f0155d030e13616'), 'course': 'CS 104', 'enrollments': 31, 'department': 'Computer Science', 'enrollment_category': 'high'}\n",
      "{'_id': ObjectId('672b19df0f0155d030e13617'), 'course': 'CS 105', 'enrollments': 33, 'department': 'Computer Science', 'enrollment_category': 'high'}\n",
      "{'_id': ObjectId('672b19df0f0155d030e13618'), 'course': 'History 101', 'enrollments': 20, 'department': 'History', 'enrollment_category': 'low'}\n",
      "{'_id': ObjectId('672b19df0f0155d030e13619'), 'course': 'History 102', 'enrollments': 22, 'department': 'History', 'enrollment_category': 'high'}\n",
      "{'_id': ObjectId('672b19df0f0155d030e1361a'), 'course': 'History 103', 'enrollments': 18, 'department': 'History', 'enrollment_category': 'low'}\n",
      "{'_id': ObjectId('672b19df0f0155d030e1361b'), 'course': 'History 104', 'enrollments': 24, 'department': 'History', 'enrollment_category': 'high'}\n",
      "{'_id': ObjectId('672b19df0f0155d030e1361c'), 'course': 'History 105', 'enrollments': 19, 'department': 'History', 'enrollment_category': 'low'}\n",
      "{'_id': ObjectId('672b19df0f0155d030e1361d'), 'course': 'Physics 101', 'enrollments': 15, 'department': 'Physics', 'enrollment_category': 'low'}\n",
      "{'_id': ObjectId('672b19df0f0155d030e1361e'), 'course': 'Physics 102', 'enrollments': 18, 'department': 'Physics', 'enrollment_category': 'low'}\n",
      "{'_id': ObjectId('672b19df0f0155d030e1361f'), 'course': 'Physics 103', 'enrollments': 20, 'department': 'Physics', 'enrollment_category': 'low'}\n",
      "{'_id': ObjectId('672b19df0f0155d030e13620'), 'course': 'Physics 104', 'enrollments': 17, 'department': 'Physics', 'enrollment_category': 'low'}\n",
      "{'_id': ObjectId('672b19df0f0155d030e13621'), 'course': 'Physics 105', 'enrollments': 19, 'department': 'Physics', 'enrollment_category': 'low'}\n"
     ]
    }
   ],
   "source": [
    "pipeline = [\n",
    "    {'$addFields': {'enrollment_category': {'$cond': {'if': {'$gt': ['$enrollments', 20]}, 'then': 'high', 'else': 'low'}}}}\n",
    "]\n",
    "for result in courses_collection.aggregate(pipeline):\n",
    "    print(result)"
   ]
  },
  {
   "cell_type": "markdown",
   "id": "136f6445-4526-4aa5-8a15-664395bc54d5",
   "metadata": {},
   "source": [
    "### Homework for Students\n",
    "- **Homework 1**: Perform an aggregation to get a count of courses per department."
   ]
  },
  {
   "cell_type": "code",
   "execution_count": 10,
   "id": "5f1a9aaf-835c-4aa7-962e-2771fafae99a",
   "metadata": {},
   "outputs": [
    {
     "name": "stdout",
     "output_type": "stream",
     "text": [
      "Jumlah kursus per departemen:\n",
      "{'_id': 'Physics', 'course_count': 5}\n",
      "{'_id': 'Computer Science', 'course_count': 5}\n",
      "{'_id': 'History', 'course_count': 5}\n",
      "{'_id': 'Mathematics', 'course_count': 5}\n"
     ]
    }
   ],
   "source": [
    "aggregation_result_1 = courses_collection.aggregate([\n",
    "    {\n",
    "        \"$group\": {\n",
    "            \"_id\": \"$department\",  # Kelompokkan berdasarkan departemen\n",
    "            \"course_count\": { \"$sum\": 1 }  # Hitung jumlah kursus per departemen\n",
    "        }\n",
    "    }\n",
    "])\n",
    "\n",
    "# Menampilkan hasil Pekerjaan Rumah 1\n",
    "print(\"Jumlah kursus per departemen:\")\n",
    "for result in aggregation_result_1:\n",
    "    print(result)"
   ]
  },
  {
   "cell_type": "markdown",
   "id": "3c20f71b-598f-4ea5-9fda-05a7201c904e",
   "metadata": {},
   "source": [
    "- **Homework 2**: Use `$match` and `$group` together to filter and get only courses with enrollments over 25 in 'Computer Science'."
   ]
  },
  {
   "cell_type": "code",
   "execution_count": 11,
   "id": "fdfe18d0-60ec-4cc2-83b1-8f72e7be6716",
   "metadata": {},
   "outputs": [
    {
     "name": "stdout",
     "output_type": "stream",
     "text": [
      "\n",
      "Kursus dengan enrollments > 25 di Computer Science:\n",
      "{'_id': 'CS 103', 'total_enrollments': 29}\n",
      "{'_id': 'CS 105', 'total_enrollments': 33}\n",
      "{'_id': 'CS 102', 'total_enrollments': 26}\n",
      "{'_id': 'CS 104', 'total_enrollments': 31}\n"
     ]
    }
   ],
   "source": [
    "aggregation_result_2 = courses_collection.aggregate([\n",
    "    {\n",
    "        \"$match\": {\n",
    "            \"department\": \"Computer Science\",  # Filter berdasarkan departemen 'Computer Science'\n",
    "            \"enrollments\": { \"$gt\": 25 }  # Filter hanya kursus dengan enrollments lebih dari 25\n",
    "        }\n",
    "    },\n",
    "    {\n",
    "        \"$group\": {\n",
    "            \"_id\": \"$course\",  # Kelompokkan berdasarkan nama kursus\n",
    "            \"total_enrollments\": { \"$sum\": \"$enrollments\" }  # Hitung jumlah enrollments per kursus\n",
    "        }\n",
    "    }\n",
    "])\n",
    "\n",
    "# Menampilkan hasil Pekerjaan Rumah 2\n",
    "print(\"\\nKursus dengan enrollments > 25 di Computer Science:\")\n",
    "for result in aggregation_result_2:\n",
    "    print(result)"
   ]
  },
  {
   "cell_type": "markdown",
   "id": "a00d4794-4f32-4eff-aca8-6b0b285fa91e",
   "metadata": {},
   "source": [
    "- **Homework 3**: Apply `$lookup` to join `courses` collection with `students` collection based on student enrollments."
   ]
  },
  {
   "cell_type": "code",
   "execution_count": 12,
   "id": "88183b4f-eae3-4ddb-80c8-4633ea98f33d",
   "metadata": {},
   "outputs": [
    {
     "name": "stdout",
     "output_type": "stream",
     "text": [
      "\n",
      "Hasil Lookup antara courses dan students:\n",
      "{'_id': ObjectId('672b19df0f0155d030e1360e'), 'course': 'Math 101', 'enrollments': 35, 'department': 'Mathematics', 'student_enrollments': []}\n",
      "{'_id': ObjectId('672b19df0f0155d030e1360f'), 'course': 'Math 102', 'enrollments': 28, 'department': 'Mathematics', 'student_enrollments': []}\n",
      "{'_id': ObjectId('672b19df0f0155d030e13610'), 'course': 'Math 103', 'enrollments': 35, 'department': 'Mathematics', 'student_enrollments': []}\n",
      "{'_id': ObjectId('672b19df0f0155d030e13611'), 'course': 'Math 104', 'enrollments': 32, 'department': 'Mathematics', 'student_enrollments': []}\n",
      "{'_id': ObjectId('672b19df0f0155d030e13612'), 'course': 'Math 105', 'enrollments': 27, 'department': 'Mathematics', 'student_enrollments': []}\n",
      "{'_id': ObjectId('672b19df0f0155d030e13613'), 'course': 'CS 101', 'enrollments': 25, 'department': 'Computer Science', 'student_enrollments': []}\n",
      "{'_id': ObjectId('672b19df0f0155d030e13614'), 'course': 'CS 102', 'enrollments': 26, 'department': 'Computer Science', 'student_enrollments': []}\n",
      "{'_id': ObjectId('672b19df0f0155d030e13615'), 'course': 'CS 103', 'enrollments': 29, 'department': 'Computer Science', 'student_enrollments': []}\n",
      "{'_id': ObjectId('672b19df0f0155d030e13616'), 'course': 'CS 104', 'enrollments': 31, 'department': 'Computer Science', 'student_enrollments': []}\n",
      "{'_id': ObjectId('672b19df0f0155d030e13617'), 'course': 'CS 105', 'enrollments': 33, 'department': 'Computer Science', 'student_enrollments': []}\n",
      "{'_id': ObjectId('672b19df0f0155d030e13618'), 'course': 'History 101', 'enrollments': 20, 'department': 'History', 'student_enrollments': []}\n",
      "{'_id': ObjectId('672b19df0f0155d030e13619'), 'course': 'History 102', 'enrollments': 22, 'department': 'History', 'student_enrollments': []}\n",
      "{'_id': ObjectId('672b19df0f0155d030e1361a'), 'course': 'History 103', 'enrollments': 18, 'department': 'History', 'student_enrollments': []}\n",
      "{'_id': ObjectId('672b19df0f0155d030e1361b'), 'course': 'History 104', 'enrollments': 24, 'department': 'History', 'student_enrollments': []}\n",
      "{'_id': ObjectId('672b19df0f0155d030e1361c'), 'course': 'History 105', 'enrollments': 19, 'department': 'History', 'student_enrollments': []}\n",
      "{'_id': ObjectId('672b19df0f0155d030e1361d'), 'course': 'Physics 101', 'enrollments': 15, 'department': 'Physics', 'student_enrollments': []}\n",
      "{'_id': ObjectId('672b19df0f0155d030e1361e'), 'course': 'Physics 102', 'enrollments': 18, 'department': 'Physics', 'student_enrollments': []}\n",
      "{'_id': ObjectId('672b19df0f0155d030e1361f'), 'course': 'Physics 103', 'enrollments': 20, 'department': 'Physics', 'student_enrollments': []}\n",
      "{'_id': ObjectId('672b19df0f0155d030e13620'), 'course': 'Physics 104', 'enrollments': 17, 'department': 'Physics', 'student_enrollments': []}\n",
      "{'_id': ObjectId('672b19df0f0155d030e13621'), 'course': 'Physics 105', 'enrollments': 19, 'department': 'Physics', 'student_enrollments': []}\n"
     ]
    }
   ],
   "source": [
    "aggregation_result_3 = courses_collection.aggregate([\n",
    "    {\n",
    "        \"$lookup\": {\n",
    "            \"from\": \"students\",  # Koleksi yang ingin digabungkan\n",
    "            \"localField\": \"course\",  # Field di koleksi 'courses' yang menjadi referensi\n",
    "            \"foreignField\": \"enrolled_course\",  # Field di koleksi 'students' yang menjadi referensi\n",
    "            \"as\": \"student_enrollments\"  # Nama field baru yang akan berisi data yang digabungkan\n",
    "        }\n",
    "    }\n",
    "])\n",
    "\n",
    "# Menampilkan hasil Pekerjaan Rumah 3\n",
    "print(\"\\nHasil Lookup antara courses dan students:\")\n",
    "for result in aggregation_result_3:\n",
    "    print(result)"
   ]
  }
 ],
 "metadata": {
  "kernelspec": {
   "display_name": "Python 3 (ipykernel)",
   "language": "python",
   "name": "python3"
  },
  "language_info": {
   "codemirror_mode": {
    "name": "ipython",
    "version": 3
   },
   "file_extension": ".py",
   "mimetype": "text/x-python",
   "name": "python",
   "nbconvert_exporter": "python",
   "pygments_lexer": "ipython3",
   "version": "3.12.4"
  }
 },
 "nbformat": 4,
 "nbformat_minor": 5
}
